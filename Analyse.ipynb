{
 "cells": [
  {
   "cell_type": "code",
   "execution_count": 1,
   "id": "69c2501c",
   "metadata": {},
   "outputs": [
    {
     "ename": "ModuleNotFoundError",
     "evalue": "No module named 'pandas'",
     "output_type": "error",
     "traceback": [
      "\u001b[0;31m---------------------------------------------------------------------------\u001b[0m",
      "\u001b[0;31mModuleNotFoundError\u001b[0m                       Traceback (most recent call last)",
      "Cell \u001b[0;32mIn[1], line 1\u001b[0m\n\u001b[0;32m----> 1\u001b[0m \u001b[38;5;28;01mimport\u001b[39;00m \u001b[38;5;21;01mpandas\u001b[39;00m \u001b[38;5;28;01mas\u001b[39;00m \u001b[38;5;21;01mpd\u001b[39;00m\n\u001b[1;32m      2\u001b[0m \u001b[38;5;28;01mimport\u001b[39;00m \u001b[38;5;21;01mnumpy\u001b[39;00m \u001b[38;5;28;01mas\u001b[39;00m \u001b[38;5;21;01mnp\u001b[39;00m\n\u001b[1;32m      3\u001b[0m \u001b[38;5;28;01mimport\u001b[39;00m \u001b[38;5;21;01mseaborn\u001b[39;00m \u001b[38;5;28;01mas\u001b[39;00m \u001b[38;5;21;01msns\u001b[39;00m \n",
      "\u001b[0;31mModuleNotFoundError\u001b[0m: No module named 'pandas'"
     ]
    }
   ],
   "source": [
    "import pandas as pd\n",
    "import numpy as np\n",
    "import seaborn as sns \n",
    "import matplotlib.pyplot as plt "
   ]
  },
  {
   "cell_type": "code",
   "execution_count": null,
   "id": "11425cd9",
   "metadata": {},
   "outputs": [],
   "source": [
    "data = pd.read_csv(\"german.csv\")"
   ]
  },
  {
   "cell_type": "code",
   "execution_count": null,
   "id": "adb70d7a",
   "metadata": {},
   "outputs": [],
   "source": [
    "df = data.copy()"
   ]
  },
  {
   "cell_type": "code",
   "execution_count": null,
   "id": "3d34583e",
   "metadata": {},
   "outputs": [],
   "source": [
    "df"
   ]
  },
  {
   "cell_type": "code",
   "execution_count": null,
   "id": "16121a7b",
   "metadata": {},
   "outputs": [],
   "source": [
    "df.shape"
   ]
  },
  {
   "cell_type": "markdown",
   "id": "ef92b2e3",
   "metadata": {},
   "source": [
    "# TARGET"
   ]
  },
  {
   "cell_type": "code",
   "execution_count": null,
   "id": "7bcdf89b",
   "metadata": {},
   "outputs": [],
   "source": [
    "df['Credit'].value_counts(normalize=True)"
   ]
  },
  {
   "cell_type": "code",
   "execution_count": null,
   "id": "0bdcc6c7",
   "metadata": {},
   "outputs": [],
   "source": [
    "df['Credit'].replace([1, 2], ['Good', 'Bad'], inplace=True)"
   ]
  },
  {
   "cell_type": "code",
   "execution_count": null,
   "id": "5d6d5de1",
   "metadata": {},
   "outputs": [],
   "source": [
    "df.isna().sum()"
   ]
  },
  {
   "cell_type": "code",
   "execution_count": null,
   "id": "4bca5c6e",
   "metadata": {},
   "outputs": [],
   "source": [
    "df.dtypes.value_counts()"
   ]
  },
  {
   "cell_type": "code",
   "execution_count": null,
   "id": "5f29e786",
   "metadata": {},
   "outputs": [],
   "source": [
    "for col in df.select_dtypes('object'):\n",
    "    print(f'{col:-<50}\\n{df[col].unique()}')"
   ]
  },
  {
   "cell_type": "markdown",
   "id": "f75ebe63",
   "metadata": {},
   "source": [
    "# VARIABLES QUALITATIVES \n"
   ]
  },
  {
   "cell_type": "code",
   "execution_count": null,
   "id": "78bb8465",
   "metadata": {
    "scrolled": false
   },
   "outputs": [],
   "source": [
    "for col in df.select_dtypes('object'):\n",
    "    print(f'{col:-<50}\\n{df[col].value_counts(normalize=True)}')\n",
    "    plt.figure(figsize=(5,5))\n",
    "    sns.countplot(data=df, x=df[col])\n",
    "    plt.savefig(\"{}_qual\".format(col))\n",
    "    "
   ]
  },
  {
   "cell_type": "markdown",
   "id": "4f267d7d",
   "metadata": {},
   "source": [
    "# VARIABLES QUANTITAVES "
   ]
  },
  {
   "cell_type": "code",
   "execution_count": null,
   "id": "7480cc8a",
   "metadata": {},
   "outputs": [],
   "source": [
    "for col in df.select_dtypes('int64'):\n",
    "    plt.figure(figsize=(5,5))\n",
    "    sns.displot(data=df, x=df[col])\n",
    "    plt.savefig(\"{}_histo\".format(col))\n",
    "    "
   ]
  },
  {
   "cell_type": "code",
   "execution_count": null,
   "id": "e87bbb9f",
   "metadata": {},
   "outputs": [],
   "source": [
    "for col in df.select_dtypes('int64'):\n",
    "    plt.figure(figsize=(5,5))\n",
    "    sns.boxplot(data=df, x=df[col])\n",
    "    plt.savefig(\"{}_box\".format(col))\n",
    "    "
   ]
  },
  {
   "cell_type": "markdown",
   "id": "965dae2e",
   "metadata": {},
   "source": [
    "# VARIABLES QUANTITATIVES ET TARGET "
   ]
  },
  {
   "cell_type": "code",
   "execution_count": null,
   "id": "fa424abe",
   "metadata": {},
   "outputs": [],
   "source": [
    "for col in df.select_dtypes('int64'):\n",
    "    plt.figure(figsize=(5,5))\n",
    "    sns.boxplot(data=df, x=df[col], y=\"Credit\", hue='Credit')\n",
    "    plt.savefig(\"{}_quan_target\".format(col))"
   ]
  },
  {
   "cell_type": "code",
   "execution_count": null,
   "id": "a28c5226",
   "metadata": {},
   "outputs": [],
   "source": [
    "for col in df.select_dtypes('object'):\n",
    "    plt.figure(figsize=(5,5))\n",
    "    sns.countplot(data=df, x=df[col], hue='Credit')\n",
    "    plt.savefig(\"{}_qual_target\".format(col))"
   ]
  },
  {
   "cell_type": "markdown",
   "id": "a74a0687",
   "metadata": {},
   "source": [
    "# ACM ACP"
   ]
  },
  {
   "cell_type": "code",
   "execution_count": null,
   "id": "c0cddaae",
   "metadata": {},
   "outputs": [],
   "source": [
    "import prince \n",
    "from sklearn.compose import make_column_selector, make_column_transformer"
   ]
  },
  {
   "cell_type": "code",
   "execution_count": null,
   "id": "b873f39f",
   "metadata": {},
   "outputs": [],
   "source": [
    "mca = prince.MCA(\n",
    "    n_components=2,\n",
    "    n_iter=3,\n",
    "    copy=True,   \n",
    "    random_state=0,\n",
    "    engine='auto'\n",
    ")   \n",
    "\n",
    "pca = prince.PCA(\n",
    "    n_components=6,\n",
    "    n_iter=3,\n",
    "    rescale_with_mean=True, \n",
    "    rescale_with_std=True,\n",
    "    random_state=0,\n",
    "    engine='auto'\n",
    " \n",
    ")"
   ]
  },
  {
   "cell_type": "code",
   "execution_count": null,
   "id": "3e74251a",
   "metadata": {},
   "outputs": [],
   "source": [
    "categorical_features = make_column_selector(dtype_exclude=np.number)\n",
    "numerical_features   = make_column_selector(dtype_include=np.number)\n",
    "\n",
    "X_MCA = df[categorical_features]\n",
    "X_PCA = df[numerical_features]\n",
    "\n",
    "y = df[\"Credit\"]"
   ]
  },
  {
   "cell_type": "code",
   "execution_count": null,
   "id": "9833401c",
   "metadata": {},
   "outputs": [],
   "source": [
    "mca = mca.fit(X_MCA)\n",
    "pca = pca.fit(X_PCA)"
   ]
  },
  {
   "cell_type": "code",
   "execution_count": null,
   "id": "6023bfac",
   "metadata": {},
   "outputs": [],
   "source": [
    "mca.plot_coordinates(\n",
    "     X=X_MCA,\n",
    "     ax=None,\n",
    "     figsize=(15,6),\n",
    "     show_row_points=False,\n",
    "     row_points_size=3,\n",
    "     show_row_labels=False,\n",
    "     show_column_points=True,\n",
    "     column_points_size=30,\n",
    "     show_column_labels=False,\n",
    "     legend_n_cols=1\n",
    "   \n",
    ")"
   ]
  },
  {
   "cell_type": "code",
   "execution_count": null,
   "id": "2ff1fd23",
   "metadata": {},
   "outputs": [],
   "source": [
    "ax = pca.plot_row_coordinates(\n",
    "     X=X_PCA,\n",
    "     ax=None,\n",
    "    x_component=2,\n",
    "    y_component=3,\n",
    "     figsize=(10,10),\n",
    "     color_labels=df[\"Credit\"],\n",
    "     ellipse_outline=False,\n",
    "     ellipse_fill=False,\n",
    "     show_points=True,\n",
    "    \n",
    ")\n",
    "ax.get_figure().savefig('pca_row_coordinates_23.png')"
   ]
  },
  {
   "cell_type": "code",
   "execution_count": null,
   "id": "ad155652",
   "metadata": {},
   "outputs": [],
   "source": [
    "pca.column_correlations(X_PCA)"
   ]
  },
  {
   "cell_type": "code",
   "execution_count": null,
   "id": "3ebab810",
   "metadata": {},
   "outputs": [],
   "source": [
    "plt.figure(figsize=(5,5))\n",
    "sns.clustermap(df.corr())\n",
    "plt.savefig(\"{}matrice_corr\".format(col))"
   ]
  },
  {
   "cell_type": "markdown",
   "id": "aacae9dd",
   "metadata": {},
   "source": [
    "# PRE-PROCESSING"
   ]
  },
  {
   "cell_type": "code",
   "execution_count": null,
   "id": "9c1d51da",
   "metadata": {},
   "outputs": [],
   "source": [
    "from sklearn.model_selection import train_test_split\n",
    "from sklearn.preprocessing import OneHotEncoder, LabelEncoder, OrdinalEncoder\n",
    "from sklearn.pipeline import make_pipeline\n",
    "\n"
   ]
  },
  {
   "cell_type": "code",
   "execution_count": null,
   "id": "530b66fa",
   "metadata": {},
   "outputs": [],
   "source": [
    "df['Credit'].replace(['Good', 'Bad'], [0, 1], inplace=True)"
   ]
  },
  {
   "cell_type": "code",
   "execution_count": null,
   "id": "0cc3d283",
   "metadata": {},
   "outputs": [],
   "source": [
    "trainset, testset = train_test_split(df, test_size=0.2, random_state=0)"
   ]
  },
  {
   "cell_type": "code",
   "execution_count": null,
   "id": "4bbd1b52",
   "metadata": {},
   "outputs": [],
   "source": [
    "trainset['Credit'].value_counts()"
   ]
  },
  {
   "cell_type": "code",
   "execution_count": null,
   "id": "e7c7fef4",
   "metadata": {},
   "outputs": [],
   "source": [
    "trainset.shape, testset.shape"
   ]
  },
  {
   "cell_type": "code",
   "execution_count": null,
   "id": "85555f4c",
   "metadata": {},
   "outputs": [],
   "source": [
    "trainset"
   ]
  },
  {
   "cell_type": "code",
   "execution_count": null,
   "id": "e6897488",
   "metadata": {},
   "outputs": [],
   "source": [
    "def preprocessing(df):\n",
    "            \n",
    "    X = df.drop('Credit', axis=1)\n",
    "    X = make_column_transformer((OrdinalEncoder(), categorical_features)).fit_transform(X)\n",
    "    y = df['Credit']\n",
    "    return X, y \n",
    "    \n"
   ]
  },
  {
   "cell_type": "code",
   "execution_count": null,
   "id": "96f02de2",
   "metadata": {},
   "outputs": [],
   "source": [
    "preprocessing(trainset)"
   ]
  },
  {
   "cell_type": "code",
   "execution_count": null,
   "id": "cafebf39",
   "metadata": {},
   "outputs": [],
   "source": [
    "X_train, y_train = preprocessing(trainset)"
   ]
  },
  {
   "cell_type": "code",
   "execution_count": null,
   "id": "c941c31c",
   "metadata": {},
   "outputs": [],
   "source": [
    "X_train , y_train"
   ]
  },
  {
   "cell_type": "code",
   "execution_count": null,
   "id": "52475e96",
   "metadata": {},
   "outputs": [],
   "source": [
    "X_test, y_test = preprocessing(testset)"
   ]
  },
  {
   "cell_type": "code",
   "execution_count": null,
   "id": "f83df763",
   "metadata": {},
   "outputs": [],
   "source": [
    "X_test, y_test"
   ]
  },
  {
   "cell_type": "markdown",
   "id": "31299205",
   "metadata": {},
   "source": [
    "# MODELISATION ET EVALUATION"
   ]
  },
  {
   "cell_type": "code",
   "execution_count": null,
   "id": "e535d81e",
   "metadata": {},
   "outputs": [],
   "source": [
    "from sklearn.tree import DecisionTreeClassifier\n",
    "from sklearn.ensemble import RandomForestClassifier, AdaBoostClassifier\n",
    "from sklearn.svm import SVC\n",
    "from sklearn.metrics import f1_score, confusion_matrix, classification_report\n",
    "from sklearn.model_selection import learning_curve, GridSearchCV, RandomizedSearchCV\n",
    "\n",
    "from sklearn.feature_selection import SelectKBest, f_classif\n",
    "from sklearn.preprocessing import PolynomialFeatures, StandardScaler"
   ]
  },
  {
   "cell_type": "code",
   "execution_count": null,
   "id": "879871b8",
   "metadata": {},
   "outputs": [],
   "source": [
    "def evaluation(model, name):\n",
    "    \n",
    "    model.fit(X_train, y_train)\n",
    "    ypred = model.predict(X_test)\n",
    "    \n",
    "    plt.figure(figsize=(5, 5))\n",
    "    cf_matrix = confusion_matrix(y_test, ypred)\n",
    "    sns.heatmap(cf_matrix/np.sum(cf_matrix), annot=True,fmt='.2%', cmap='Blues')\n",
    "    plt.savefig(\"{}_MC\".format(name))\n",
    "    \n",
    "    print(confusion_matrix(y_test, ypred))\n",
    "    print(classification_report(y_test, ypred))\n",
    "    \n",
    "    N, train_score, val_score = learning_curve(model, X_train, y_train,\n",
    "                                              cv=4, scoring='recall',\n",
    "                                               train_sizes=np.linspace(0.1, 1, 5))\n",
    "    \n",
    "    \n",
    "    plt.figure(figsize=(5, 5))\n",
    "    plt.plot(N, train_score.mean(axis=1), label='train score')\n",
    "    plt.plot(N, val_score.mean(axis=1), label='validation score')\n",
    "    plt.legend() \n",
    "    plt.savefig(\"{}_courbe\".format(name))\n",
    "    \n",
    "   \n",
    "    \n",
    "    \n",
    "    \n",
    "    \n",
    "    "
   ]
  },
  {
   "cell_type": "code",
   "execution_count": null,
   "id": "8a5b3468",
   "metadata": {},
   "outputs": [],
   "source": [
    "preprocessor = make_pipeline(PolynomialFeatures(2, include_bias=False), SelectKBest(f_classif))"
   ]
  },
  {
   "cell_type": "code",
   "execution_count": null,
   "id": "28d9c79d",
   "metadata": {},
   "outputs": [],
   "source": [
    "SVM = make_pipeline(\n",
    "    StandardScaler(),\n",
    "    preprocessor,\n",
    "    SVC(random_state=0)\n",
    ")  \n",
    "\n",
    "RF = make_pipeline(\n",
    "    preprocessor,\n",
    "    RandomForestClassifier(random_state=0)\n",
    ")  "
   ]
  },
  {
   "cell_type": "code",
   "execution_count": null,
   "id": "53513643",
   "metadata": {},
   "outputs": [],
   "source": [
    "SVM, RF"
   ]
  },
  {
   "cell_type": "code",
   "execution_count": null,
   "id": "a015a4cd",
   "metadata": {},
   "outputs": [],
   "source": [
    "param_grid = {\n",
    "    \"pipeline__selectkbest__k\":np.arange(10,16),\n",
    "}\n",
    "grid = GridSearchCV(SVM, param_grid, cv=4, scoring='recall')\n",
    "\n",
    "grid.fit(X_train, y_train)\n",
    "    "
   ]
  },
  {
   "cell_type": "code",
   "execution_count": null,
   "id": "c03626dc",
   "metadata": {},
   "outputs": [],
   "source": [
    "grid.best_params_"
   ]
  },
  {
   "cell_type": "code",
   "execution_count": null,
   "id": "d12db470",
   "metadata": {},
   "outputs": [],
   "source": [
    "param_grid = {\n",
    "    \"randomforestclassifier__max_depth\": np.arange(2,14),\n",
    "    \"randomforestclassifier__n_estimators\":np.arange(2,150),\n",
    "    \"randomforestclassifier__max_features\": np.arange(4,20), \n",
    "    \"pipeline__selectkbest__k\":np.arange(10,16),\n",
    "}\n",
    "grid = RandomizedSearchCV(RF, param_grid, cv=4, scoring='recall')\n",
    "\n",
    "grid.fit(X_train, y_train)"
   ]
  },
  {
   "cell_type": "code",
   "execution_count": null,
   "id": "167866a8",
   "metadata": {},
   "outputs": [],
   "source": [
    "grid.best_estimator_"
   ]
  },
  {
   "cell_type": "code",
   "execution_count": null,
   "id": "3554e072",
   "metadata": {},
   "outputs": [],
   "source": [
    "models = []\n",
    "SVM_ = make_pipeline(\n",
    "    \n",
    "    PolynomialFeatures(2),\n",
    "    SelectKBest(f_classif, k=10),\n",
    "    SVC(random_state=0)\n",
    ")  \n",
    "\n",
    "RF_ = make_pipeline(\n",
    "    PolynomialFeatures(2),\n",
    "    SelectKBest(f_classif, k=11),\n",
    "    RandomForestClassifier(random_state=0, max_depth=8, max_features=5, n_estimators=67)\n",
    ")\n",
    "\n",
    "models.append(('RF', RF_ ))\n",
    "models.append(('SVM', SVM_))\n",
    "models"
   ]
  },
  {
   "cell_type": "code",
   "execution_count": null,
   "id": "7331a788",
   "metadata": {},
   "outputs": [],
   "source": [
    "for name, model in models:\n",
    "    print(name)\n",
    "    evaluation(model, name)"
   ]
  },
  {
   "cell_type": "code",
   "execution_count": null,
   "id": "72dbd1cb",
   "metadata": {},
   "outputs": [],
   "source": []
  },
  {
   "cell_type": "code",
   "execution_count": null,
   "id": "0c723066",
   "metadata": {},
   "outputs": [],
   "source": []
  }
 ],
 "metadata": {
  "kernelspec": {
   "display_name": "Python 3 (ipykernel)",
   "language": "python",
   "name": "python3"
  },
  "language_info": {
   "codemirror_mode": {
    "name": "ipython",
    "version": 3
   },
   "file_extension": ".py",
   "mimetype": "text/x-python",
   "name": "python",
   "nbconvert_exporter": "python",
   "pygments_lexer": "ipython3",
   "version": "3.9.15"
  }
 },
 "nbformat": 4,
 "nbformat_minor": 5
}
